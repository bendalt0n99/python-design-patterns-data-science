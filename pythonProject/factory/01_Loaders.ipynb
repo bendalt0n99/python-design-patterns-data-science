{
 "cells": [
  {
   "cell_type": "markdown",
   "id": "c98d4853-8b5c-4c20-bef1-b49222714a75",
   "metadata": {},
   "source": [
    "# Factory Pattern\n",
    "\n",
    "## Data Loaders \n",
    "\n",
    "The purpose of this notebook is just to explore the implementation of the factory pattern in relation to loading data.\n"
   ]
  },
  {
   "cell_type": "code",
   "execution_count": 15,
   "id": "8e72726f-6b5c-4218-b47f-f65af6954e1f",
   "metadata": {},
   "outputs": [],
   "source": [
    "from abc import ABC, abstractmethod\n"
   ]
  },
  {
   "cell_type": "code",
   "execution_count": 16,
   "id": "ae63ee1f-a1d2-4c48-b8ce-a8a8a606cb3f",
   "metadata": {},
   "outputs": [],
   "source": [
    "class Product(ABC):\n",
    "\n",
    "    @abstractmethod\n",
    "    def load_data(self):\n",
    "        pass"
   ]
  },
  {
   "cell_type": "code",
   "execution_count": 17,
   "id": "9a06027d-0c53-4ec3-9116-c13a3e96dc64",
   "metadata": {},
   "outputs": [],
   "source": [
    "class SparkLoader(Product):\n",
    "\n",
    "    def __init__(self, path: str):\n",
    "        self.path = path\n",
    "\n",
    "    def load_data(self):\n",
    "        return print(f'spark.sql(SELECT * FROM {self.path})')"
   ]
  },
  {
   "cell_type": "code",
   "execution_count": 18,
   "id": "5aad6990-4431-4863-9299-bfaae7cfe67d",
   "metadata": {},
   "outputs": [],
   "source": [
    "class LoaderFactory():\n",
    "\n",
    "    def __init__(self, loader: Product):\n",
    "        self.loader = loader\n",
    "\n",
    "    def load_data(self):\n",
    "        return self.loader.load_data()"
   ]
  },
  {
   "cell_type": "markdown",
   "id": "635b3172-e688-4c40-843f-d4db58fa5ea6",
   "metadata": {},
   "source": [
    "Below demonstrates how the above code would work in practice. Further products (i.e. csv loader) could easily be added if needed"
   ]
  },
  {
   "cell_type": "code",
   "execution_count": 19,
   "id": "969ebe58-3d23-4997-89ba-13b78a75ac70",
   "metadata": {},
   "outputs": [
    {
     "name": "stdout",
     "output_type": "stream",
     "text": [
      "spark.sql(SELECT * FROM catalogue.schema.table)\n"
     ]
    }
   ],
   "source": [
    "spark_loader = SparkLoader('catalogue.schema.table')\n",
    "\n",
    "fac = LoaderFactory(spark_loader)\n",
    "\n",
    "df = fac.load_data()"
   ]
  },
  {
   "cell_type": "code",
   "execution_count": null,
   "id": "06b35938-27c9-450b-abe2-48fe1a8fc6da",
   "metadata": {},
   "outputs": [],
   "source": []
  }
 ],
 "metadata": {
  "kernelspec": {
   "display_name": "Python (my_project)",
   "language": "python",
   "name": "my_project"
  },
  "language_info": {
   "codemirror_mode": {
    "name": "ipython",
    "version": 3
   },
   "file_extension": ".py",
   "mimetype": "text/x-python",
   "name": "python",
   "nbconvert_exporter": "python",
   "pygments_lexer": "ipython3",
   "version": "3.10.1"
  }
 },
 "nbformat": 4,
 "nbformat_minor": 5
}
